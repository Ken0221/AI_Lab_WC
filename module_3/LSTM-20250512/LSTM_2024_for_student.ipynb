{
 "cells": [
  {
   "cell_type": "code",
   "execution_count": null,
   "metadata": {},
   "outputs": [],
   "source": [
    "# from google.colab import drive\n",
    "# drive.mount('/content/drive')"
   ]
  },
  {
   "cell_type": "code",
   "execution_count": 10,
   "metadata": {},
   "outputs": [],
   "source": [
    "import numpy as np\n",
    "import tensorflow as tf\n",
    "from tensorflow.keras.models import Sequential\n",
    "from tensorflow.keras.layers import LSTM, Dense\n",
    "from sklearn.model_selection import train_test_split\n",
    "import scipy.io\n",
    "import matplotlib.pyplot as plt"
   ]
  },
  {
   "cell_type": "code",
   "execution_count": null,
   "metadata": {},
   "outputs": [],
   "source": [
    "# Load the .mat file\n",
    "data = scipy.io.loadmat('channel_data.mat')\n",
    "\n",
    "# Assuming the data is stored under key 'X' in the .mat file\n",
    "channel_data = data['channel']  # Shape (10000, 2), with real and imaginary parts\n",
    "print(\"Channel data shape:\", channel_data.shape)\n",
    "\n",
    "# Prepare sliding windows of 5 inputs to predict the next value\n",
    "def create_dataset(data, input_size=5):\n",
    "    X, y = [], []\n",
    "    for i in range(len(data) - input_size):\n",
    "        X.append(data[i:i + input_size])  # Input: 5 timesteps\n",
    "        y.append(data[i + input_size])   # Output: next value\n",
    "    return np.array(X), np.array(y)\n",
    "\n",
    "input_size = 5\n",
    "X, y = create_dataset(channel_data, input_size)\n"
   ]
  },
  {
   "cell_type": "code",
   "execution_count": 21,
   "metadata": {},
   "outputs": [],
   "source": [
    "# Split into training and testing sets\n",
    "split_index = int(0.7 * len(X))  # 70% training, 30% testing\n",
    "train_data, test_data = X[:split_index], X[split_index:]\n",
    "train_labels, test_labels = y[:split_index], y[split_index:]\n",
    "\n",
    "# Reshape for LSTM: (samples, timesteps, features)\n",
    "train_data = train_data.reshape(train_data.shape[0], input_size, 2)\n",
    "test_data = test_data.reshape(test_data.shape[0], input_size, 2)\n"
   ]
  },
  {
   "cell_type": "code",
   "execution_count": null,
   "metadata": {},
   "outputs": [],
   "source": [
    "print(train_data.shape)\n",
    "print(test_data.shape)"
   ]
  },
  {
   "cell_type": "code",
   "execution_count": 22,
   "metadata": {},
   "outputs": [],
   "source": [
    "# Split labels into real and imaginary parts\n",
    "train_labels_real = train_labels[:, 0]\n",
    "train_labels_imag = train_labels[:, 1]\n",
    "test_labels_real = test_labels[:, 0]\n",
    "test_labels_imag = test_labels[:, 1]"
   ]
  },
  {
   "cell_type": "code",
   "execution_count": null,
   "metadata": {},
   "outputs": [],
   "source": [
    "model = Sequential([\n",
    "    '''\n",
    "    請完成model，最後輸出要real& image part所以輸出2個資料 (Batch, 2)\n",
    "    '''\n",
    "])\n",
    "\n",
    "\n",
    "'''\n",
    "請完成 model.compile，選好optimizer & loss function\n",
    "請完成 model.fit，設定好input data & labels, epochs, batch_size, validation_data\n",
    "'''\n",
    "# Compile the model\n",
    "model.compile('''完成他''')\n",
    "\n",
    "# Train the model\n",
    "history = model.fit('''完成他''')"
   ]
  },
  {
   "cell_type": "code",
   "execution_count": null,
   "metadata": {},
   "outputs": [],
   "source": [
    "model.summary()"
   ]
  },
  {
   "cell_type": "code",
   "execution_count": null,
   "metadata": {},
   "outputs": [],
   "source": [
    "# Evaluate the model\n",
    "test_loss, test_accuracy = model.evaluate(test_data, test_labels)\n",
    "print(f\"Test Accuracy: {test_accuracy:.2f}\")\n",
    "\n",
    "# Predict on the test data\n",
    "predictions = model.predict(test_data)\n",
    "\n",
    "# Extract real and imaginary predictions\n",
    "predictions_real = predictions[:, 0]\n",
    "predictions_imag = predictions[:, 1]"
   ]
  },
  {
   "cell_type": "code",
   "execution_count": null,
   "metadata": {},
   "outputs": [],
   "source": [
    "# Plot real part\n",
    "plt.figure(figsize=(12, 6))\n",
    "plt.plot(range(len(test_labels_real)), test_labels_real, label='Actual Real Part', color='blue')\n",
    "plt.plot(range(len(predictions_real)), predictions_real, label='Predicted Real Part', color='red', linestyle='--')\n",
    "plt.title('Real Part: Actual vs Predicted')\n",
    "plt.xlabel('Sample Index')\n",
    "plt.ylabel('Value')\n",
    "plt.legend()\n",
    "plt.show()"
   ]
  },
  {
   "cell_type": "code",
   "execution_count": null,
   "metadata": {},
   "outputs": [],
   "source": [
    "# Plot imaginary part\n",
    "plt.figure(figsize=(12, 6))\n",
    "plt.plot(range(len(test_labels_imag)), test_labels_imag, label='Actual Imaginary Part', color='green')\n",
    "plt.plot(range(len(predictions_imag)), predictions_imag, label='Predicted Imaginary Part', color='orange', linestyle='--')\n",
    "plt.title('Imaginary Part: Actual vs Predicted')\n",
    "plt.xlabel('Sample Index')\n",
    "plt.ylabel('Value')\n",
    "plt.legend()\n",
    "plt.show()"
   ]
  }
 ],
 "metadata": {
  "kernelspec": {
   "display_name": "tf25_radar",
   "language": "python",
   "name": "python3"
  },
  "language_info": {
   "codemirror_mode": {
    "name": "ipython",
    "version": 3
   },
   "file_extension": ".py",
   "mimetype": "text/x-python",
   "name": "python",
   "nbconvert_exporter": "python",
   "pygments_lexer": "ipython3",
   "version": "3.9.15"
  }
 },
 "nbformat": 4,
 "nbformat_minor": 2
}
