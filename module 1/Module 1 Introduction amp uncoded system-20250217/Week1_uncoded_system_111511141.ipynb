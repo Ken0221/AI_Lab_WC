{
  "cells": [
    {
      "cell_type": "markdown",
      "metadata": {
        "id": "IJwJ0SRjFOdf"
      },
      "source": [
        "## **Loading libraries**"
      ]
    },
    {
      "cell_type": "code",
      "execution_count": 57,
      "metadata": {
        "id": "xR1HcrFSPJ-2"
      },
      "outputs": [],
      "source": [
        "import numpy as np\n",
        "import pandas as pd\n",
        "import matplotlib.pyplot as plt"
      ]
    },
    {
      "cell_type": "markdown",
      "metadata": {
        "id": "hiIhr4F4FvpY"
      },
      "source": [
        "## Generate random signal"
      ]
    },
    {
      "cell_type": "code",
      "execution_count": 58,
      "metadata": {
        "id": "Yb0egXk5PNSK"
      },
      "outputs": [],
      "source": [
        "def generate_message(data_size):\n",
        "  # randomly generate binary bit m\n",
        "  m = np.array(np.random.randint(0, 2, size=data_size))\n",
        "  return m"
      ]
    },
    {
      "cell_type": "markdown",
      "metadata": {
        "id": "AYY51BPLFc4g"
      },
      "source": [
        "## Modulation (BPSK)"
      ]
    },
    {
      "cell_type": "code",
      "execution_count": 59,
      "metadata": {
        "id": "mRTH5_SkPktp"
      },
      "outputs": [],
      "source": [
        "def modulation(c,SNR):\n",
        "  # type your own code\n",
        "  # assign the signal power based on the given SNR\n",
        "  P = np.power(10,SNR/10)\n",
        "  # implement the BPSK modulation and return the modulated signal x\n",
        "  x = np.sqrt(P)*(2*c - 1)\n",
        "  return x"
      ]
    },
    {
      "cell_type": "markdown",
      "metadata": {
        "id": "nhH-YvJnF8RM"
      },
      "source": [
        "## AWGN Channel"
      ]
    },
    {
      "cell_type": "code",
      "execution_count": 60,
      "metadata": {
        "id": "hm8NkXWcP3mJ"
      },
      "outputs": [],
      "source": [
        "def AWGN_Channel(x):\n",
        "  # assign the normalized noise\n",
        "  n = np.random.normal(0,np.sqrt(1/2),len(x))\n",
        "  # return the receive signal y by transmitted signal x plus the noise n\n",
        "  y = x + n\n",
        "  return y"
      ]
    },
    {
      "cell_type": "markdown",
      "metadata": {
        "id": "lUHaTgOFGLms"
      },
      "source": [
        "# Hard decision"
      ]
    },
    {
      "cell_type": "markdown",
      "metadata": {
        "id": "UfwnMB4TGNmg"
      },
      "source": [
        "After we receive the signal, we first do the hard decision. If the signal is greater than the threshold, we say it is 1 and if the signal is smaller than the threshold it is 0."
      ]
    },
    {
      "cell_type": "code",
      "execution_count": 61,
      "metadata": {
        "id": "k2d6xW-onRwP"
      },
      "outputs": [],
      "source": [
        "def hard_decision(y):\n",
        "  # type your own code\n",
        "  # Set the hard decision threshold\n",
        "  threshold = 0\n",
        "  # Detect the signal and return the estimated message bit m_hat\n",
        "  m_hat = (y >= threshold).astype(int)\n",
        "  return m_hat"
      ]
    },
    {
      "cell_type": "markdown",
      "metadata": {
        "id": "gq8nCGGzGRvj"
      },
      "source": [
        "## Performance evaluation"
      ]
    },
    {
      "cell_type": "markdown",
      "metadata": {
        "id": "p0qNnZbKGUcc"
      },
      "source": [
        "We go through all signals to calculate the bit error rate.\n",
        "\n",
        "P.S. output the number of elements of error bits"
      ]
    },
    {
      "cell_type": "code",
      "execution_count": 62,
      "metadata": {
        "id": "oAezwwr7nVxy"
      },
      "outputs": [],
      "source": [
        "def calculate_error(m_hat,m):\n",
        "  # type your own code\n",
        "  # Find out all the error elements to get BER\n",
        "  bit_err = np.sum(m_hat != m)\n",
        "  return bit_err"
      ]
    },
    {
      "cell_type": "markdown",
      "metadata": {
        "id": "YFkO_YcYGcAb"
      },
      "source": [
        "## Main function"
      ]
    },
    {
      "cell_type": "code",
      "execution_count": 63,
      "metadata": {
        "colab": {
          "base_uri": "https://localhost:8080/",
          "height": 649
        },
        "id": "OthVWP1PP5pl",
        "outputId": "e6f85e8a-6813-49be-8ab8-65b6261f6ab4"
      },
      "outputs": [
        {
          "output_type": "stream",
          "name": "stdout",
          "text": [
            "0 / 8\n",
            "1 / 8\n",
            "2 / 8\n",
            "3 / 8\n",
            "4 / 8\n",
            "5 / 8\n",
            "6 / 8\n",
            "7 / 8\n",
            "8 / 8\n"
          ]
        },
        {
          "output_type": "display_data",
          "data": {
            "text/plain": [
              "<Figure size 640x480 with 1 Axes>"
            ],
            "image/png": "[encoded data removed]"
          },
          "metadata": {}
        },
        {
          "output_type": "stream",
          "name": "stdout",
          "text": [
            "Bit Error Rate: [0.07629 0.05586 0.03645 0.02239 0.01302 0.0059  0.00239 0.00095 0.00017]\n"
          ]
        }
      ],
      "source": [
        "SNR_start = 0\n",
        "SNR_end = 8\n",
        "step_size = 1\n",
        "SNR = np.arange(SNR_start,SNR_end+1,step_size)\n",
        "length_SNR = len(SNR)\n",
        "BER = np.zeros(length_SNR)\n",
        "data_size = 100000\n",
        "\n",
        "for i in range(len(SNR)):\n",
        "\n",
        "  # Type your own code\n",
        "  # Call the functions above\n",
        "  m = generate_message(data_size)\n",
        "  x = modulation(m,SNR[i])\n",
        "  y = AWGN_Channel(x)\n",
        "  m_hat = hard_decision(y)\n",
        "  bit_err = calculate_error(m_hat,m)\n",
        "\n",
        "  BER[i] = bit_err/data_size\n",
        "  print(i,\"/\",len(SNR)-1)\n",
        "  # Fig Plot\n",
        "EbN0dBs = np.arange(start=SNR_start,stop=SNR_end+1,step=step_size)\n",
        "fig1 = plt.figure()\n",
        "plt.semilogy(EbN0dBs,BER,color='r',marker='o',linestyle='-',label='Uncoded Transmission')\n",
        "plt.xlabel('$E_b/N_0(dB)$');plt.ylabel('BER ($P_b$)')\n",
        "plt.title('Probability of bit error over AWGN channel')\n",
        "plt.xlim(SNR_start,SNR_end);plt.grid(True);\n",
        "plt.legend()\n",
        "plt.show()\n",
        "print(\"Bit Error Rate:\", BER)"
      ]
    }
  ],
  "metadata": {
    "colab": {
      "provenance": []
    },
    "kernelspec": {
      "display_name": "Python 3",
      "name": "python3"
    },
    "language_info": {
      "name": "python"
    }
  },
  "nbformat": 4,
  "nbformat_minor": 0
}